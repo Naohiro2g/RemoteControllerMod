{
  "nbformat": 4,
  "nbformat_minor": 0,
  "metadata": {
    "colab": {
      "name": "get_itemID_1_16_5.ipynb",
      "provenance": [],
      "collapsed_sections": []
    },
    "kernelspec": {
      "name": "python3",
      "display_name": "Python 3"
    },
    "language_info": {
      "name": "python"
    }
  },
  "cells": [
    {
      "cell_type": "code",
      "metadata": {
        "colab": {
          "base_uri": "https://localhost:8080/"
        },
        "id": "y8GOlObG0LKX",
        "outputId": "5526b3d9-09ec-4a35-b4e0-54beed5d3df8"
      },
      "source": [
        "!pip install beautifulsoup4\n",
        "!pip install urllib3"
      ],
      "execution_count": 2,
      "outputs": [
        {
          "output_type": "stream",
          "text": [
            "Requirement already satisfied: beautifulsoup4 in /usr/local/lib/python3.7/dist-packages (4.6.3)\n",
            "Requirement already satisfied: urllib3 in /usr/local/lib/python3.7/dist-packages (1.24.3)\n"
          ],
          "name": "stdout"
        }
      ]
    },
    {
      "cell_type": "code",
      "metadata": {
        "id": "tQLvwbAO0R0k"
      },
      "source": [
        "import urllib.request\n",
        "from bs4 import BeautifulSoup\n",
        "\n",
        "url = 'https://minecraftitemids.com/'\n",
        "pages = [str(n) for n in range(9)]\n",
        "\n",
        "def get_content(url):\n",
        "  req = urllib.request.Request(url)\n",
        "  html = urllib.request.urlopen(req)\n",
        "  soup = BeautifulSoup(html, \"html.parser\")\n",
        "  topicsindex = soup.find('table', attrs={'id': 'table'})\n",
        "  topics = topicsindex.find_all('tr')\n",
        "  return topics"
      ],
      "execution_count": 107,
      "outputs": []
    },
    {
      "cell_type": "code",
      "metadata": {
        "colab": {
          "base_uri": "https://localhost:8080/"
        },
        "id": "Az-FiVuSE1ca",
        "outputId": "fa69823a-c4b1-4ab4-9009-516ac951a985"
      },
      "source": [
        "[str(n) for n in range(9)]"
      ],
      "execution_count": 106,
      "outputs": [
        {
          "output_type": "execute_result",
          "data": {
            "text/plain": [
              "['0', '1', '2', '3', '4', '5', '6', '7', '8']"
            ]
          },
          "metadata": {
            "tags": []
          },
          "execution_count": 106
        }
      ]
    },
    {
      "cell_type": "code",
      "metadata": {
        "id": "xY4gKIhJ2W3_"
      },
      "source": [
        "def get_id(line):\n",
        "  blockID = line.split(',')[0]\n",
        "  blockID = blockID.split(': ')[1].strip().strip(\"'\")\n",
        "  return blockID\n",
        "\n",
        "def get_data(line):\n",
        "  if \",\" in line:\n",
        "    blockData = line.split(',')[0]\n",
        "  else:\n",
        "    blockData = line\n",
        "  blockData = blockData.split(': ')[1].strip().strip(\"'\")\n",
        "  return blockData"
      ],
      "execution_count": 71,
      "outputs": []
    },
    {
      "cell_type": "code",
      "metadata": {
        "id": "lZ_tlldE0qCG"
      },
      "source": [
        "# 1. block_info.jsを走査してblockIDとblockDataを取得\n",
        "# 2. 読み込み済みのhtmlから対象のblockIDとblockDataと同じ情報を持つ要素を取得\n",
        "# 3. 抽出した要素のItem IDを取得\n",
        "\n",
        "from tqdm import tqdm\n",
        "import pandas as pd\n",
        "\n",
        "col = ['blockID','blockData','itemID']\n",
        "item_df = pd.DataFrame(columns=col)\n",
        "def store_df(item_df,topics):\n",
        "  with open('./block_info.js') as f:\n",
        "    while True:\n",
        "      s_line = f.readline()\n",
        "\n",
        "      # 最後\n",
        "      if not s_line:\n",
        "        break\n",
        "\n",
        "      blockID = None\n",
        "      blockData = None\n",
        "      if 'blockID' in s_line:\n",
        "        blockID = get_id(s_line)\n",
        "        data_line = f.readline()\n",
        "        blockData = get_data(data_line)\n",
        "      elif 'blockData' in s_line:\n",
        "        blockData = get_data(s_line)\n",
        "        id_line = f.readline()\n",
        "        blockID = get_id(id_line)\n",
        "\n",
        "      if blockID == None and blockData == None:\n",
        "        continue\n",
        "\n",
        "      # print(blockID , blockData)\n",
        "\n",
        "      for topic in topics:\n",
        "        tds = topic.find_all('td')\n",
        "        # header\n",
        "        if len(tds) <= 4:\n",
        "          continue\n",
        "        if ':' in tds[4].text:\n",
        "          if tds[4].text.split(':')[0] == blockID and tds[4].text.split(':')[1] == blockData:\n",
        "            item_df = item_df.append(pd.DataFrame([[blockID,blockData,tds[2].text]],columns=col))\n",
        "            break\n",
        "        else:\n",
        "          if tds[4].text == blockID and '0' == blockData:\n",
        "            item_df = item_df.append(pd.DataFrame([[blockID,'-',tds[2].text]],columns=col))\n",
        "            break\n",
        "  return item_df"
      ],
      "execution_count": 109,
      "outputs": []
    },
    {
      "cell_type": "code",
      "metadata": {
        "colab": {
          "base_uri": "https://localhost:8080/",
          "height": 419
        },
        "id": "ivII15hO0wyZ",
        "outputId": "55540ad4-6c74-498a-80ca-fed4d20f109e"
      },
      "source": [
        "item_df"
      ],
      "execution_count": 105,
      "outputs": [
        {
          "output_type": "execute_result",
          "data": {
            "text/html": [
              "<div>\n",
              "<style scoped>\n",
              "    .dataframe tbody tr th:only-of-type {\n",
              "        vertical-align: middle;\n",
              "    }\n",
              "\n",
              "    .dataframe tbody tr th {\n",
              "        vertical-align: top;\n",
              "    }\n",
              "\n",
              "    .dataframe thead th {\n",
              "        text-align: right;\n",
              "    }\n",
              "</style>\n",
              "<table border=\"1\" class=\"dataframe\">\n",
              "  <thead>\n",
              "    <tr style=\"text-align: right;\">\n",
              "      <th></th>\n",
              "      <th>blockID</th>\n",
              "      <th>blockData</th>\n",
              "      <th>itemID</th>\n",
              "    </tr>\n",
              "  </thead>\n",
              "  <tbody>\n",
              "    <tr>\n",
              "      <th>0</th>\n",
              "      <td>1</td>\n",
              "      <td>-</td>\n",
              "      <td>minecraft:stone</td>\n",
              "    </tr>\n",
              "    <tr>\n",
              "      <th>0</th>\n",
              "      <td>1</td>\n",
              "      <td>1</td>\n",
              "      <td>minecraft:granite</td>\n",
              "    </tr>\n",
              "    <tr>\n",
              "      <th>0</th>\n",
              "      <td>1</td>\n",
              "      <td>2</td>\n",
              "      <td>minecraft:polished_granite</td>\n",
              "    </tr>\n",
              "    <tr>\n",
              "      <th>0</th>\n",
              "      <td>1</td>\n",
              "      <td>3</td>\n",
              "      <td>minecraft:diorite</td>\n",
              "    </tr>\n",
              "    <tr>\n",
              "      <th>0</th>\n",
              "      <td>1</td>\n",
              "      <td>4</td>\n",
              "      <td>minecraft:polished_diorite</td>\n",
              "    </tr>\n",
              "    <tr>\n",
              "      <th>...</th>\n",
              "      <td>...</td>\n",
              "      <td>...</td>\n",
              "      <td>...</td>\n",
              "    </tr>\n",
              "    <tr>\n",
              "      <th>0</th>\n",
              "      <td>33</td>\n",
              "      <td>-</td>\n",
              "      <td>minecraft:piston</td>\n",
              "    </tr>\n",
              "    <tr>\n",
              "      <th>0</th>\n",
              "      <td>29</td>\n",
              "      <td>-</td>\n",
              "      <td>minecraft:sticky_piston</td>\n",
              "    </tr>\n",
              "    <tr>\n",
              "      <th>0</th>\n",
              "      <td>46</td>\n",
              "      <td>-</td>\n",
              "      <td>minecraft:tnt</td>\n",
              "    </tr>\n",
              "    <tr>\n",
              "      <th>0</th>\n",
              "      <td>27</td>\n",
              "      <td>-</td>\n",
              "      <td>minecraft:powered_rail</td>\n",
              "    </tr>\n",
              "    <tr>\n",
              "      <th>0</th>\n",
              "      <td>28</td>\n",
              "      <td>-</td>\n",
              "      <td>minecraft:detector_rail</td>\n",
              "    </tr>\n",
              "  </tbody>\n",
              "</table>\n",
              "<p>115 rows × 3 columns</p>\n",
              "</div>"
            ],
            "text/plain": [
              "   blockID blockData                      itemID\n",
              "0        1         -             minecraft:stone\n",
              "0        1         1           minecraft:granite\n",
              "0        1         2  minecraft:polished_granite\n",
              "0        1         3           minecraft:diorite\n",
              "0        1         4  minecraft:polished_diorite\n",
              "..     ...       ...                         ...\n",
              "0       33         -            minecraft:piston\n",
              "0       29         -     minecraft:sticky_piston\n",
              "0       46         -               minecraft:tnt\n",
              "0       27         -      minecraft:powered_rail\n",
              "0       28         -     minecraft:detector_rail\n",
              "\n",
              "[115 rows x 3 columns]"
            ]
          },
          "metadata": {
            "tags": []
          },
          "execution_count": 105
        }
      ]
    },
    {
      "cell_type": "code",
      "metadata": {
        "id": "9r7p0Jv72cqI"
      },
      "source": [
        "url = 'https://minecraftitemids.com/'\n",
        "pages = [str(n) for n in range(9)]\n",
        "\n",
        "col = ['blockID','blockData','itemID']\n",
        "item_df = pd.DataFrame(columns=col)\n",
        "\n",
        "for page in pages:\n",
        "  page_url = url + page\n",
        "  topics = get_content(page_url)\n",
        "  item_df = store_df(item_df,topics)"
      ],
      "execution_count": 110,
      "outputs": []
    },
    {
      "cell_type": "code",
      "metadata": {
        "colab": {
          "base_uri": "https://localhost:8080/",
          "height": 419
        },
        "id": "uMzYFNhQMzjO",
        "outputId": "533180d6-3161-4c1c-b9e4-9dffe60ada66"
      },
      "source": [
        "item_df"
      ],
      "execution_count": 111,
      "outputs": [
        {
          "output_type": "execute_result",
          "data": {
            "text/html": [
              "<div>\n",
              "<style scoped>\n",
              "    .dataframe tbody tr th:only-of-type {\n",
              "        vertical-align: middle;\n",
              "    }\n",
              "\n",
              "    .dataframe tbody tr th {\n",
              "        vertical-align: top;\n",
              "    }\n",
              "\n",
              "    .dataframe thead th {\n",
              "        text-align: right;\n",
              "    }\n",
              "</style>\n",
              "<table border=\"1\" class=\"dataframe\">\n",
              "  <thead>\n",
              "    <tr style=\"text-align: right;\">\n",
              "      <th></th>\n",
              "      <th>blockID</th>\n",
              "      <th>blockData</th>\n",
              "      <th>itemID</th>\n",
              "    </tr>\n",
              "  </thead>\n",
              "  <tbody>\n",
              "    <tr>\n",
              "      <th>0</th>\n",
              "      <td>1</td>\n",
              "      <td>-</td>\n",
              "      <td>minecraft:stone</td>\n",
              "    </tr>\n",
              "    <tr>\n",
              "      <th>0</th>\n",
              "      <td>1</td>\n",
              "      <td>1</td>\n",
              "      <td>minecraft:granite</td>\n",
              "    </tr>\n",
              "    <tr>\n",
              "      <th>0</th>\n",
              "      <td>1</td>\n",
              "      <td>2</td>\n",
              "      <td>minecraft:polished_granite</td>\n",
              "    </tr>\n",
              "    <tr>\n",
              "      <th>0</th>\n",
              "      <td>1</td>\n",
              "      <td>3</td>\n",
              "      <td>minecraft:diorite</td>\n",
              "    </tr>\n",
              "    <tr>\n",
              "      <th>0</th>\n",
              "      <td>1</td>\n",
              "      <td>4</td>\n",
              "      <td>minecraft:polished_diorite</td>\n",
              "    </tr>\n",
              "    <tr>\n",
              "      <th>...</th>\n",
              "      <td>...</td>\n",
              "      <td>...</td>\n",
              "      <td>...</td>\n",
              "    </tr>\n",
              "    <tr>\n",
              "      <th>0</th>\n",
              "      <td>449</td>\n",
              "      <td>-</td>\n",
              "      <td>minecraft:totem_of_undying</td>\n",
              "    </tr>\n",
              "    <tr>\n",
              "      <th>0</th>\n",
              "      <td>439</td>\n",
              "      <td>-</td>\n",
              "      <td>minecraft:spectral_arrow</td>\n",
              "    </tr>\n",
              "    <tr>\n",
              "      <th>0</th>\n",
              "      <td>396</td>\n",
              "      <td>-</td>\n",
              "      <td>minecraft:golden_carrot</td>\n",
              "    </tr>\n",
              "    <tr>\n",
              "      <th>0</th>\n",
              "      <td>414</td>\n",
              "      <td>-</td>\n",
              "      <td>minecraft:rabbit_foot</td>\n",
              "    </tr>\n",
              "    <tr>\n",
              "      <th>0</th>\n",
              "      <td>437</td>\n",
              "      <td>-</td>\n",
              "      <td>minecraft:dragon_breath</td>\n",
              "    </tr>\n",
              "  </tbody>\n",
              "</table>\n",
              "<p>698 rows × 3 columns</p>\n",
              "</div>"
            ],
            "text/plain": [
              "   blockID blockData                      itemID\n",
              "0        1         -             minecraft:stone\n",
              "0        1         1           minecraft:granite\n",
              "0        1         2  minecraft:polished_granite\n",
              "0        1         3           minecraft:diorite\n",
              "0        1         4  minecraft:polished_diorite\n",
              "..     ...       ...                         ...\n",
              "0      449         -  minecraft:totem_of_undying\n",
              "0      439         -    minecraft:spectral_arrow\n",
              "0      396         -     minecraft:golden_carrot\n",
              "0      414         -       minecraft:rabbit_foot\n",
              "0      437         -     minecraft:dragon_breath\n",
              "\n",
              "[698 rows x 3 columns]"
            ]
          },
          "metadata": {
            "tags": []
          },
          "execution_count": 111
        }
      ]
    },
    {
      "cell_type": "code",
      "metadata": {
        "id": "h8JBFdHeM-gK"
      },
      "source": [
        "item_df.to_csv('./item_df.csv',index=False)"
      ],
      "execution_count": 113,
      "outputs": []
    },
    {
      "cell_type": "code",
      "metadata": {
        "id": "jzaIFtGVNUmf"
      },
      "source": [
        ""
      ],
      "execution_count": null,
      "outputs": []
    }
  ]
}
{
  "nbformat": 4,
  "nbformat_minor": 0,
  "metadata": {
    "colab": {
      "name": "extract_resource_ids.ipynb",
      "provenance": [],
      "collapsed_sections": []
    },
    "kernelspec": {
      "name": "python3",
      "display_name": "Python 3"
    },
    "language_info": {
      "name": "python"
    }
  },
  "cells": [
    {
      "cell_type": "code",
      "metadata": {
        "id": "KFJX_xwyn1Ct"
      },
      "source": [
        "# リソースファイルの内容をすべてよみこむ\n",
        "with open('./ja.json') as jf:\n",
        "  ja_contents = jf.readlines()\n",
        "with open('./ja-Hira.json') as jf:\n",
        "  jahira_contents = jf.readlines()\n",
        "with open('./en.json') as jf:\n",
        "  en_contents = jf.readlines()\n"
      ],
      "execution_count": 30,
      "outputs": []
    },
    {
      "cell_type": "code",
      "metadata": {
        "id": "x2grGGg_k6f-"
      },
      "source": [
        "with open('./block_info.js') as f:\n",
        "  # 最初だけ飛ばす\n",
        "  line = f.readline()\n",
        "  while True:\n",
        "    line = f.readline()\n",
        "    # 最後\n",
        "    if not line:\n",
        "      break\n",
        "\n",
        "    #print(line)\n",
        "    targetResourceID = None\n",
        "    targetResourceJa = None\n",
        "    targetEnID = NotImplementedError\n",
        "    # formatMessageの行以外はスキップする\n",
        "    if 'formatMessage' in line:\n",
        "      if 'id: ' in line:\n",
        "        targetResourceID = line.split(\"{ id: '\")[1].split(\"', default: '\")[0]\n",
        "        targetResourceJa = line.split(\", default: '\")[1].split(\"' })\")[0]\n",
        "      else:\n",
        "        next_line = f.readline()\n",
        "        next_next_line = f.readline()\n",
        "        targetResourceID = next_line.split(\"id: '\")[1].split(\"',\")[0]\n",
        "        targetResourceJa = next_next_line.split(\"default: '\")[1].split(\"'\")[0]\n",
        "      targetEnID = targetResourceID.split('minecraft.')[1]\n",
        "      if '_' in targetEnID:\n",
        "        targetEnID = ' '.join(targetEnID.split('_'))\n",
        "    \n",
        "    if targetResourceID == None:\n",
        "      continue\n",
        "    \n",
        "    is_match = False\n",
        "    for ja_content in ja_contents:\n",
        "      if targetResourceID in ja_content:\n",
        "        is_match = True\n",
        "        break\n",
        "\n",
        "    # まだリソースファイルに含まれていない場合は追加する\n",
        "    if is_match == False:\n",
        "      insert_ja = \"\\\"\" + targetResourceID + \"\\\": \\\"\" + targetResourceJa + \"\\\",\\n\"\n",
        "      ja_contents.insert(len(ja_contents) - 1,insert_ja)\n",
        "      insert_jahira = \"\\\"\" + targetResourceID + \"\\\": \\\"\\\",\\n\"\n",
        "      jahira_contents.insert(len(jahira_contents) - 1,insert_ja)\n",
        "      insert_en = \"\\\"\" + targetResourceID + \"\\\": \\\"\" + targetEnID + \"\\\",\\n\"\n",
        "      en_contents.insert(len(en_contents) - 1,insert_en)"
      ],
      "execution_count": 31,
      "outputs": []
    },
    {
      "cell_type": "code",
      "metadata": {
        "id": "6jZ2pNWqsSf0"
      },
      "source": [
        "with open('./ja_new.json',mode='w') as f:\n",
        "  f.writelines(ja_contents)\n",
        "\n",
        "with open('./ja-Hira_new.json',mode='w') as f:\n",
        "  f.writelines(jahira_contents)\n",
        "\n",
        "with open('./en_new.json',mode='w') as f:\n",
        "  f.writelines(en_contents)\n"
      ],
      "execution_count": 32,
      "outputs": []
    },
    {
      "cell_type": "code",
      "metadata": {
        "id": "hzkxEcWNtDic"
      },
      "source": [
        ""
      ],
      "execution_count": null,
      "outputs": []
    }
  ]
}